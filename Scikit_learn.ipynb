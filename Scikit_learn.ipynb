{
 "cells": [
  {
   "cell_type": "code",
   "execution_count": 2,
   "metadata": {},
   "outputs": [],
   "source": [
    "import matplotlib.pyplot as plt\n",
    "import pandas as pd\n",
    "import numpy as np\n",
    "import seaborn as sns"
   ]
  },
  {
   "cell_type": "markdown",
   "metadata": {},
   "source": [
    "# Initial Data Description"
   ]
  },
  {
   "cell_type": "code",
   "execution_count": 3,
   "metadata": {},
   "outputs": [
    {
     "data": {
      "text/html": [
       "<div>\n",
       "<style scoped>\n",
       "    .dataframe tbody tr th:only-of-type {\n",
       "        vertical-align: middle;\n",
       "    }\n",
       "\n",
       "    .dataframe tbody tr th {\n",
       "        vertical-align: top;\n",
       "    }\n",
       "\n",
       "    .dataframe thead th {\n",
       "        text-align: right;\n",
       "    }\n",
       "</style>\n",
       "<table border=\"1\" class=\"dataframe\">\n",
       "  <thead>\n",
       "    <tr style=\"text-align: right;\">\n",
       "      <th></th>\n",
       "      <th>PassengerId</th>\n",
       "      <th>Survived</th>\n",
       "      <th>Pclass</th>\n",
       "      <th>Name</th>\n",
       "      <th>Sex</th>\n",
       "      <th>Age</th>\n",
       "      <th>SibSp</th>\n",
       "      <th>Parch</th>\n",
       "      <th>Ticket</th>\n",
       "      <th>Fare</th>\n",
       "      <th>Cabin</th>\n",
       "      <th>Embarked</th>\n",
       "    </tr>\n",
       "  </thead>\n",
       "  <tbody>\n",
       "    <tr>\n",
       "      <th>0</th>\n",
       "      <td>1</td>\n",
       "      <td>0</td>\n",
       "      <td>3</td>\n",
       "      <td>Braund, Mr. Owen Harris</td>\n",
       "      <td>male</td>\n",
       "      <td>22.0</td>\n",
       "      <td>1</td>\n",
       "      <td>0</td>\n",
       "      <td>A/5 21171</td>\n",
       "      <td>7.2500</td>\n",
       "      <td>NaN</td>\n",
       "      <td>S</td>\n",
       "    </tr>\n",
       "    <tr>\n",
       "      <th>1</th>\n",
       "      <td>2</td>\n",
       "      <td>1</td>\n",
       "      <td>1</td>\n",
       "      <td>Cumings, Mrs. John Bradley (Florence Briggs Th...</td>\n",
       "      <td>female</td>\n",
       "      <td>38.0</td>\n",
       "      <td>1</td>\n",
       "      <td>0</td>\n",
       "      <td>PC 17599</td>\n",
       "      <td>71.2833</td>\n",
       "      <td>C85</td>\n",
       "      <td>C</td>\n",
       "    </tr>\n",
       "    <tr>\n",
       "      <th>2</th>\n",
       "      <td>3</td>\n",
       "      <td>1</td>\n",
       "      <td>3</td>\n",
       "      <td>Heikkinen, Miss. Laina</td>\n",
       "      <td>female</td>\n",
       "      <td>26.0</td>\n",
       "      <td>0</td>\n",
       "      <td>0</td>\n",
       "      <td>STON/O2. 3101282</td>\n",
       "      <td>7.9250</td>\n",
       "      <td>NaN</td>\n",
       "      <td>S</td>\n",
       "    </tr>\n",
       "    <tr>\n",
       "      <th>3</th>\n",
       "      <td>4</td>\n",
       "      <td>1</td>\n",
       "      <td>1</td>\n",
       "      <td>Futrelle, Mrs. Jacques Heath (Lily May Peel)</td>\n",
       "      <td>female</td>\n",
       "      <td>35.0</td>\n",
       "      <td>1</td>\n",
       "      <td>0</td>\n",
       "      <td>113803</td>\n",
       "      <td>53.1000</td>\n",
       "      <td>C123</td>\n",
       "      <td>S</td>\n",
       "    </tr>\n",
       "    <tr>\n",
       "      <th>4</th>\n",
       "      <td>5</td>\n",
       "      <td>0</td>\n",
       "      <td>3</td>\n",
       "      <td>Allen, Mr. William Henry</td>\n",
       "      <td>male</td>\n",
       "      <td>35.0</td>\n",
       "      <td>0</td>\n",
       "      <td>0</td>\n",
       "      <td>373450</td>\n",
       "      <td>8.0500</td>\n",
       "      <td>NaN</td>\n",
       "      <td>S</td>\n",
       "    </tr>\n",
       "    <tr>\n",
       "      <th>...</th>\n",
       "      <td>...</td>\n",
       "      <td>...</td>\n",
       "      <td>...</td>\n",
       "      <td>...</td>\n",
       "      <td>...</td>\n",
       "      <td>...</td>\n",
       "      <td>...</td>\n",
       "      <td>...</td>\n",
       "      <td>...</td>\n",
       "      <td>...</td>\n",
       "      <td>...</td>\n",
       "      <td>...</td>\n",
       "    </tr>\n",
       "    <tr>\n",
       "      <th>886</th>\n",
       "      <td>887</td>\n",
       "      <td>0</td>\n",
       "      <td>2</td>\n",
       "      <td>Montvila, Rev. Juozas</td>\n",
       "      <td>male</td>\n",
       "      <td>27.0</td>\n",
       "      <td>0</td>\n",
       "      <td>0</td>\n",
       "      <td>211536</td>\n",
       "      <td>13.0000</td>\n",
       "      <td>NaN</td>\n",
       "      <td>S</td>\n",
       "    </tr>\n",
       "    <tr>\n",
       "      <th>887</th>\n",
       "      <td>888</td>\n",
       "      <td>1</td>\n",
       "      <td>1</td>\n",
       "      <td>Graham, Miss. Margaret Edith</td>\n",
       "      <td>female</td>\n",
       "      <td>19.0</td>\n",
       "      <td>0</td>\n",
       "      <td>0</td>\n",
       "      <td>112053</td>\n",
       "      <td>30.0000</td>\n",
       "      <td>B42</td>\n",
       "      <td>S</td>\n",
       "    </tr>\n",
       "    <tr>\n",
       "      <th>888</th>\n",
       "      <td>889</td>\n",
       "      <td>0</td>\n",
       "      <td>3</td>\n",
       "      <td>Johnston, Miss. Catherine Helen \"Carrie\"</td>\n",
       "      <td>female</td>\n",
       "      <td>NaN</td>\n",
       "      <td>1</td>\n",
       "      <td>2</td>\n",
       "      <td>W./C. 6607</td>\n",
       "      <td>23.4500</td>\n",
       "      <td>NaN</td>\n",
       "      <td>S</td>\n",
       "    </tr>\n",
       "    <tr>\n",
       "      <th>889</th>\n",
       "      <td>890</td>\n",
       "      <td>1</td>\n",
       "      <td>1</td>\n",
       "      <td>Behr, Mr. Karl Howell</td>\n",
       "      <td>male</td>\n",
       "      <td>26.0</td>\n",
       "      <td>0</td>\n",
       "      <td>0</td>\n",
       "      <td>111369</td>\n",
       "      <td>30.0000</td>\n",
       "      <td>C148</td>\n",
       "      <td>C</td>\n",
       "    </tr>\n",
       "    <tr>\n",
       "      <th>890</th>\n",
       "      <td>891</td>\n",
       "      <td>0</td>\n",
       "      <td>3</td>\n",
       "      <td>Dooley, Mr. Patrick</td>\n",
       "      <td>male</td>\n",
       "      <td>32.0</td>\n",
       "      <td>0</td>\n",
       "      <td>0</td>\n",
       "      <td>370376</td>\n",
       "      <td>7.7500</td>\n",
       "      <td>NaN</td>\n",
       "      <td>Q</td>\n",
       "    </tr>\n",
       "  </tbody>\n",
       "</table>\n",
       "<p>891 rows × 12 columns</p>\n",
       "</div>"
      ],
      "text/plain": [
       "     PassengerId  Survived  Pclass  \\\n",
       "0              1         0       3   \n",
       "1              2         1       1   \n",
       "2              3         1       3   \n",
       "3              4         1       1   \n",
       "4              5         0       3   \n",
       "..           ...       ...     ...   \n",
       "886          887         0       2   \n",
       "887          888         1       1   \n",
       "888          889         0       3   \n",
       "889          890         1       1   \n",
       "890          891         0       3   \n",
       "\n",
       "                                                  Name     Sex   Age  SibSp  \\\n",
       "0                              Braund, Mr. Owen Harris    male  22.0      1   \n",
       "1    Cumings, Mrs. John Bradley (Florence Briggs Th...  female  38.0      1   \n",
       "2                               Heikkinen, Miss. Laina  female  26.0      0   \n",
       "3         Futrelle, Mrs. Jacques Heath (Lily May Peel)  female  35.0      1   \n",
       "4                             Allen, Mr. William Henry    male  35.0      0   \n",
       "..                                                 ...     ...   ...    ...   \n",
       "886                              Montvila, Rev. Juozas    male  27.0      0   \n",
       "887                       Graham, Miss. Margaret Edith  female  19.0      0   \n",
       "888           Johnston, Miss. Catherine Helen \"Carrie\"  female   NaN      1   \n",
       "889                              Behr, Mr. Karl Howell    male  26.0      0   \n",
       "890                                Dooley, Mr. Patrick    male  32.0      0   \n",
       "\n",
       "     Parch            Ticket     Fare Cabin Embarked  \n",
       "0        0         A/5 21171   7.2500   NaN        S  \n",
       "1        0          PC 17599  71.2833   C85        C  \n",
       "2        0  STON/O2. 3101282   7.9250   NaN        S  \n",
       "3        0            113803  53.1000  C123        S  \n",
       "4        0            373450   8.0500   NaN        S  \n",
       "..     ...               ...      ...   ...      ...  \n",
       "886      0            211536  13.0000   NaN        S  \n",
       "887      0            112053  30.0000   B42        S  \n",
       "888      2        W./C. 6607  23.4500   NaN        S  \n",
       "889      0            111369  30.0000  C148        C  \n",
       "890      0            370376   7.7500   NaN        Q  \n",
       "\n",
       "[891 rows x 12 columns]"
      ]
     },
     "execution_count": 3,
     "metadata": {},
     "output_type": "execute_result"
    }
   ],
   "source": [
    "train = pd.read_csv(\"train.csv\")\n",
    "test = pd.read_csv(\"test.csv\")\n",
    "train"
   ]
  },
  {
   "cell_type": "code",
   "execution_count": 4,
   "metadata": {},
   "outputs": [
    {
     "data": {
      "text/plain": [
       "77.10437710437711"
      ]
     },
     "execution_count": 4,
     "metadata": {},
     "output_type": "execute_result"
    }
   ],
   "source": [
    "# Dropping the Cabin feature since the column is missing 77% of its values\n",
    "missing_v = train[\"Cabin\"].isna().sum()\n",
    "total_v = 891\n",
    "percent = missing_v*100/total_v\n",
    "percent"
   ]
  },
  {
   "cell_type": "code",
   "execution_count": 5,
   "metadata": {},
   "outputs": [],
   "source": [
    "#  Droppping \"redundant\" features\n",
    "def clean(data):\n",
    "    data = data.drop([\"PassengerId\", \"Name\", \"Ticket\", \"Cabin\"], axis=1)\n",
    "    return data\n"
   ]
  },
  {
   "cell_type": "code",
   "execution_count": 6,
   "metadata": {},
   "outputs": [],
   "source": [
    "#Re-defining the df with which we will work with\n",
    "train_drp = clean(train)\n",
    "test_drp = clean(test)"
   ]
  },
  {
   "cell_type": "code",
   "execution_count": null,
   "metadata": {},
   "outputs": [],
   "source": [
    "train_drp.head(5)"
   ]
  },
  {
   "cell_type": "code",
   "execution_count": 8,
   "metadata": {},
   "outputs": [],
   "source": [
    "def count_na (data):\n",
    "    list_miss = []\n",
    "    list_percent = []\n",
    "    cols = data.columns\n",
    "    for col in cols:\n",
    "        missing_values = data[col].isna().sum()\n",
    "        list_miss.append(missing_values)\n",
    "        percent = missing_values*100/len(data[col])\n",
    "        list_percent.append(round(percent, 2))\n",
    "    df_miss = pd.DataFrame(list_miss).T\n",
    "    df_miss.columns = data.columns\n",
    "    df_percent = pd.DataFrame(list_percent).T\n",
    "    df_percent.columns = data.columns\n",
    "    df_miss.loc[1] = df_percent.loc[0]\n",
    "    df_miss.index = [\"Total\", \"Percent\"]\n",
    "    return df_miss\n"
   ]
  },
  {
   "cell_type": "code",
   "execution_count": 9,
   "metadata": {},
   "outputs": [],
   "source": [
    "train_na = count_na(train_drp)\n",
    "test_na = count_na(test_drp)\n",
    "\n"
   ]
  },
  {
   "cell_type": "code",
   "execution_count": 10,
   "metadata": {},
   "outputs": [
    {
     "data": {
      "text/html": [
       "<div>\n",
       "<style scoped>\n",
       "    .dataframe tbody tr th:only-of-type {\n",
       "        vertical-align: middle;\n",
       "    }\n",
       "\n",
       "    .dataframe tbody tr th {\n",
       "        vertical-align: top;\n",
       "    }\n",
       "\n",
       "    .dataframe thead th {\n",
       "        text-align: right;\n",
       "    }\n",
       "</style>\n",
       "<table border=\"1\" class=\"dataframe\">\n",
       "  <thead>\n",
       "    <tr style=\"text-align: right;\">\n",
       "      <th></th>\n",
       "      <th>Survived</th>\n",
       "      <th>Pclass</th>\n",
       "      <th>Sex</th>\n",
       "      <th>Age</th>\n",
       "      <th>SibSp</th>\n",
       "      <th>Parch</th>\n",
       "      <th>Fare</th>\n",
       "      <th>Embarked</th>\n",
       "    </tr>\n",
       "  </thead>\n",
       "  <tbody>\n",
       "    <tr>\n",
       "      <th>Total</th>\n",
       "      <td>0.0</td>\n",
       "      <td>0.0</td>\n",
       "      <td>0.0</td>\n",
       "      <td>177.00</td>\n",
       "      <td>0.0</td>\n",
       "      <td>0.0</td>\n",
       "      <td>0.0</td>\n",
       "      <td>2.00</td>\n",
       "    </tr>\n",
       "    <tr>\n",
       "      <th>Percent</th>\n",
       "      <td>0.0</td>\n",
       "      <td>0.0</td>\n",
       "      <td>0.0</td>\n",
       "      <td>19.87</td>\n",
       "      <td>0.0</td>\n",
       "      <td>0.0</td>\n",
       "      <td>0.0</td>\n",
       "      <td>0.22</td>\n",
       "    </tr>\n",
       "  </tbody>\n",
       "</table>\n",
       "</div>"
      ],
      "text/plain": [
       "         Survived  Pclass  Sex     Age  SibSp  Parch  Fare  Embarked\n",
       "Total         0.0     0.0  0.0  177.00    0.0    0.0   0.0      2.00\n",
       "Percent       0.0     0.0  0.0   19.87    0.0    0.0   0.0      0.22"
      ]
     },
     "execution_count": 10,
     "metadata": {},
     "output_type": "execute_result"
    }
   ],
   "source": [
    "train_na"
   ]
  },
  {
   "cell_type": "code",
   "execution_count": 11,
   "metadata": {},
   "outputs": [
    {
     "data": {
      "text/html": [
       "<div>\n",
       "<style scoped>\n",
       "    .dataframe tbody tr th:only-of-type {\n",
       "        vertical-align: middle;\n",
       "    }\n",
       "\n",
       "    .dataframe tbody tr th {\n",
       "        vertical-align: top;\n",
       "    }\n",
       "\n",
       "    .dataframe thead th {\n",
       "        text-align: right;\n",
       "    }\n",
       "</style>\n",
       "<table border=\"1\" class=\"dataframe\">\n",
       "  <thead>\n",
       "    <tr style=\"text-align: right;\">\n",
       "      <th></th>\n",
       "      <th>Pclass</th>\n",
       "      <th>Sex</th>\n",
       "      <th>Age</th>\n",
       "      <th>SibSp</th>\n",
       "      <th>Parch</th>\n",
       "      <th>Fare</th>\n",
       "      <th>Embarked</th>\n",
       "    </tr>\n",
       "  </thead>\n",
       "  <tbody>\n",
       "    <tr>\n",
       "      <th>Total</th>\n",
       "      <td>0.0</td>\n",
       "      <td>0.0</td>\n",
       "      <td>86.00</td>\n",
       "      <td>0.0</td>\n",
       "      <td>0.0</td>\n",
       "      <td>1.00</td>\n",
       "      <td>0.0</td>\n",
       "    </tr>\n",
       "    <tr>\n",
       "      <th>Percent</th>\n",
       "      <td>0.0</td>\n",
       "      <td>0.0</td>\n",
       "      <td>20.57</td>\n",
       "      <td>0.0</td>\n",
       "      <td>0.0</td>\n",
       "      <td>0.24</td>\n",
       "      <td>0.0</td>\n",
       "    </tr>\n",
       "  </tbody>\n",
       "</table>\n",
       "</div>"
      ],
      "text/plain": [
       "         Pclass  Sex    Age  SibSp  Parch  Fare  Embarked\n",
       "Total       0.0  0.0  86.00    0.0    0.0  1.00       0.0\n",
       "Percent     0.0  0.0  20.57    0.0    0.0  0.24       0.0"
      ]
     },
     "execution_count": 11,
     "metadata": {},
     "output_type": "execute_result"
    }
   ],
   "source": [
    "test_na"
   ]
  },
  {
   "cell_type": "markdown",
   "metadata": {},
   "source": [
    "Only the columns Age and Fare seem to have missing values on both our trainning and testing data sets.\n",
    "However, it appears that the missing values for Fare are small enough (Train: 0.22% | Test: 0.24 %) that \n",
    "the best course of action would probably be to leave them as is. \n",
    "\n",
    "On the other hand, our Age columns have a large number of missing values that should be taken care of \n",
    "(Train: 19.87% | Test: 20.57). \n",
    "\n",
    "In order to determine the procedure by which we will fill in these values we must first see if there is\n",
    "any pattern to the missing data or if it is completly at random.\n",
    "If the missing values are spread randomly throughout the sample we could make use of the sample average\n",
    "if the distribution follows a normal/Gaussian distribution. Else, it would probably better to replace \n",
    "these random missing values through the use of the median.\n",
    "\n",
    "However, if the missing values are not at random, more sofisticate approaches should be used to interporlate\n",
    "the date more accurately.\n",
    "\n",
    "In order to check if these missing values are at random or not we will examin the distribution of the other\n",
    "column's values based on wether they belong to the null subsampling or non-null subsample."
   ]
  },
  {
   "cell_type": "markdown",
   "metadata": {},
   "source": [
    "# Data Interpolation Assesment"
   ]
  },
  {
   "cell_type": "markdown",
   "metadata": {},
   "source": [
    "**Functions for Age Null Value Distribution**"
   ]
  },
  {
   "cell_type": "code",
   "execution_count": 12,
   "metadata": {},
   "outputs": [],
   "source": [
    "# We divide our samples (Training and Test) into its respective subsamples (Null and Not Null)\n",
    "# with respect to [\"Age\"]\n",
    "train_null = train_drp[train_drp[\"Age\"].isna()]\n",
    "train_not_null = train_drp[train_drp[\"Age\"].notnull()]\n",
    "\n",
    "test_null = test_drp[test_drp[\"Age\"].isna()]\n",
    "test_not_null = test_drp[test_drp[\"Age\"].notnull()]"
   ]
  },
  {
   "cell_type": "code",
   "execution_count": 23,
   "metadata": {},
   "outputs": [],
   "source": [
    "# We create a function to determine the distribution of our subsample based\n",
    "# on percentages.\n",
    "def percent_n(data_col):\n",
    "    Total = data_col.groupby(data_col).count()\n",
    "    Percent = data_col.groupby(data_col).count()\n",
    "    for i in Total.index:    \n",
    "        Percent[i] = round(Percent[i]*100/Total.sum(), 2)\n",
    "    df = pd.DataFrame({'Total': Total, 'Percent': Percent}, columns=['Total', 'Percent'])\n",
    "    return df"
   ]
  },
  {
   "cell_type": "code",
   "execution_count": 240,
   "metadata": {},
   "outputs": [],
   "source": [
    "# We create a function incorporating the previous one in order to test differences\n",
    "# between our sub samples to check if the distribution of null values present\n",
    "# in our Age column is spread evenly and therefore due to random causes. \n",
    "# The input of this function is the name of the column we wish to examine.\n",
    "# The output of this function is a DataFrame containing both: \n",
    "# Intra subsample differences\n",
    "# Train[Null] - Train[NotNull] & Test[Null] - Test[NotNull]\n",
    "# and Inter subsample differences:\n",
    "# Train[Null] - Test[Null] & Train[NotNull] - Test[NotNull]\n",
    "# if the missing values are due to random factors the spread will be even\n",
    "# and the differences will be similar. If they are uneven, the missing\n",
    "# values are due to a non-random cause and therefore should be interpolated\n",
    "# through multivariate means.\n",
    "\n",
    "def feature_inf(Feature):\n",
    "    # Train Data\n",
    "    p_null_s_Feature_tr = percent_n(train_null[str(Feature)])\n",
    "    p_notnull_s_Feature_tr = percent_n(train_not_null[str(Feature)])\n",
    "\n",
    "    # Test Data\n",
    "    p_null_s_Feature_tst = percent_n(test_null[str(Feature)])\n",
    "    p_notnull_s_Feature_tst = percent_n(test_not_null[str(Feature)])\n",
    "\n",
    "    # Intra Subsample (Null x Not Null) Comparison\n",
    "    Intra_dif_tr = p_null_s_Feature_tr[\"Percent\"].subtract(p_notnull_s_Feature_tr[\"Percent\"], fill_value=0)\n",
    "    Intra_dif_tst = p_null_s_Feature_tst[\"Percent\"].subtract(p_notnull_s_Feature_tst[\"Percent\"], fill_value=0)\n",
    "\n",
    "    # Inter Subsample (Train x Test) Comparisons\n",
    "    Inter_dif_null = p_null_s_Feature_tr[\"Percent\"].subtract(p_null_s_Feature_tst[\"Percent\"], fill_value=0)\n",
    "    Inter_dif_not_null = p_notnull_s_Feature_tr[\"Percent\"].subtract(p_notnull_s_Feature_tst[\"Percent\"], fill_value=0)\n",
    "\n",
    "    # Sets the correct amount of indexes\n",
    "    indx = Intra_dif_tr.index.values.tolist() + Intra_dif_tst.index.values.tolist() + Inter_dif_null.index.values.tolist() + Inter_dif_not_null.index.values.tolist()\n",
    "    indx = set(indx)\n",
    "\n",
    "    # Creating a joint DF for better comparison\n",
    "    df = pd.DataFrame(Intra_dif_tr.reindex(indx))\n",
    "    df.columns = [\"Intra_dif_tr\"]\n",
    "    df[\"Intra_dif_tst\"] = pd.DataFrame(Intra_dif_tst)\n",
    "    df[\"Inter_dif_null\"] = pd.DataFrame(Inter_dif_null)\n",
    "    df[\"Inter_dif_not_null\"] = pd.DataFrame(Inter_dif_not_null)\n",
    "    return df"
   ]
  },
  {
   "cell_type": "code",
   "execution_count": 194,
   "metadata": {},
   "outputs": [],
   "source": [
    "# Function which returns the absolute difference between our comparisons\n",
    "def abs_dif(df):\n",
    "    MIntra_dif_tr = round(df[\"Intra_dif_tr\"].abs().sum()/2,2)\n",
    "    MIntra_dif_tst = round(df[\"Intra_dif_tst\"].abs().sum()/2,2)\n",
    "    MInter_dif_null = round(df[\"Inter_dif_null\"].abs().sum()/2,2)\n",
    "    MInter_dif_not_null = round(df[\"Inter_dif_not_null\"].abs().sum()/2,2)\n",
    "    list = [MIntra_dif_tr, MIntra_dif_tst, MInter_dif_null, MInter_dif_not_null]\n",
    "    list = pd.DataFrame(list).T\n",
    "    list.columns = [\"Intra_dif_tr\", \"Intra_dif_tst\", \"Inter_dif_null\", \"Inter_dif_not_null\"]\n",
    "    list.index = [\"Abs Diff\"]\n",
    "    return list"
   ]
  },
  {
   "cell_type": "markdown",
   "metadata": {},
   "source": [
    "**Survival**"
   ]
  },
  {
   "cell_type": "code",
   "execution_count": 14,
   "metadata": {},
   "outputs": [],
   "source": [
    "# Examining Survival distribution between Train_Null and Train_Not_Null subsamples.\n",
    "# Note: Test is not examined since it does not contain this particular column.\n",
    "p_null_s_Age = percent_n(train_null[\"Survived\"])\n",
    "p_notnull_s_Age = percent_n(train_not_null[\"Survived\"])"
   ]
  },
  {
   "cell_type": "code",
   "execution_count": 15,
   "metadata": {},
   "outputs": [
    {
     "data": {
      "image/png": "[encoded data removed]",
      "text/plain": [
       "<Figure size 576x432 with 2 Axes>"
      ]
     },
     "metadata": {},
     "output_type": "display_data"
    }
   ],
   "source": [
    "# Plotting Results\n",
    "import matplotlib.pyplot as plt\n",
    "import seaborn as sns\n",
    "\n",
    "#define Seaborn color palette to use\n",
    "colors = sns.color_palette('pastel')[0:5]\n",
    "\n",
    "\n",
    "## Plotting using seaborn\n",
    "\n",
    "\n",
    "fig = plt.figure(figsize=(4,3), dpi=144)\n",
    "ax = fig.add_subplot(121)\n",
    "ax1 = plt.pie(p_null_s_Age[\"Total\"], labels = ['Died', 'Survived'], colors = colors, autopct='%.0f%%')\n",
    "ax.set_title(\"Null Values\")\n",
    "\n",
    "ax = fig.add_subplot(122)\n",
    "ax2 = plt.pie(p_notnull_s_Age[\"Total\"], labels = ['Died', 'Survived'], colors = colors, autopct='%.0f%%')\n",
    "ax.set_title(\"Non Null Values\")\n",
    "plt.show()"
   ]
  },
  {
   "cell_type": "markdown",
   "metadata": {},
   "source": [
    "The distribution percentages Survived/Died seem to differ between null and non null subsamples.\n",
    "One would expect them to be similar if the error was random, but it may be systematic.\n",
    "URL of interest: \n",
    "https://www.mastersindatascience.org/learning/how-to-deal-with-missing-data/\n",
    "https://blogs.oracle.com/ai-and-datascience/post/3-methods-to-handle-missing-data\n",
    "    - Random Forest\n",
    "https://www.ncbi.nlm.nih.gov/pmc/articles/PMC3668100/\n",
    "    The cases of MNAR data are problematic. The only way to obtain an unbiased estimate of the \n",
    "    parameters in such a case is to model the missing data. The model may then be incorporated \n",
    "    into a more complex one for estimating the missing values.\n",
    "    - Regression imputation\n",
    "\n",
    "https://www.analyticsvidhya.com/blog/2021/10/handling-missing-value/#:~:text=There%20are%202%20primary%20ways,Imputing%20the%20Missing%20Values\n",
    "\n",
    "We proceed examining the rest of the columns to check if this pattern of apperent non-randomness is also\n",
    "present within them."
   ]
  },
  {
   "cell_type": "markdown",
   "metadata": {},
   "source": [
    "**Passanger Class**"
   ]
  },
  {
   "cell_type": "code",
   "execution_count": 246,
   "metadata": {},
   "outputs": [
    {
     "data": {
      "text/html": [
       "<div>\n",
       "<style scoped>\n",
       "    .dataframe tbody tr th:only-of-type {\n",
       "        vertical-align: middle;\n",
       "    }\n",
       "\n",
       "    .dataframe tbody tr th {\n",
       "        vertical-align: top;\n",
       "    }\n",
       "\n",
       "    .dataframe thead th {\n",
       "        text-align: right;\n",
       "    }\n",
       "</style>\n",
       "<table border=\"1\" class=\"dataframe\">\n",
       "  <thead>\n",
       "    <tr style=\"text-align: right;\">\n",
       "      <th></th>\n",
       "      <th>Intra_dif_tr</th>\n",
       "      <th>Intra_dif_tst</th>\n",
       "      <th>Inter_dif_null</th>\n",
       "      <th>Inter_dif_not_null</th>\n",
       "    </tr>\n",
       "    <tr>\n",
       "      <th>Pclass</th>\n",
       "      <th></th>\n",
       "      <th></th>\n",
       "      <th></th>\n",
       "      <th></th>\n",
       "    </tr>\n",
       "  </thead>\n",
       "  <tbody>\n",
       "    <tr>\n",
       "      <th>1</th>\n",
       "      <td>-9.10</td>\n",
       "      <td>-19.05</td>\n",
       "      <td>6.48</td>\n",
       "      <td>-3.47</td>\n",
       "    </tr>\n",
       "    <tr>\n",
       "      <th>2</th>\n",
       "      <td>-18.02</td>\n",
       "      <td>-20.70</td>\n",
       "      <td>0.40</td>\n",
       "      <td>-2.28</td>\n",
       "    </tr>\n",
       "    <tr>\n",
       "      <th>3</th>\n",
       "      <td>27.12</td>\n",
       "      <td>39.74</td>\n",
       "      <td>-6.88</td>\n",
       "      <td>5.74</td>\n",
       "    </tr>\n",
       "  </tbody>\n",
       "</table>\n",
       "</div>"
      ],
      "text/plain": [
       "        Intra_dif_tr  Intra_dif_tst  Inter_dif_null  Inter_dif_not_null\n",
       "Pclass                                                                 \n",
       "1              -9.10         -19.05            6.48               -3.47\n",
       "2             -18.02         -20.70            0.40               -2.28\n",
       "3              27.12          39.74           -6.88                5.74"
      ]
     },
     "execution_count": 246,
     "metadata": {},
     "output_type": "execute_result"
    }
   ],
   "source": [
    "Passanger_Class = feature_inf(\"Pclass\")\n",
    "Passanger_Class"
   ]
  },
  {
   "cell_type": "code",
   "execution_count": 275,
   "metadata": {},
   "outputs": [
    {
     "data": {
      "text/html": [
       "<div>\n",
       "<style scoped>\n",
       "    .dataframe tbody tr th:only-of-type {\n",
       "        vertical-align: middle;\n",
       "    }\n",
       "\n",
       "    .dataframe tbody tr th {\n",
       "        vertical-align: top;\n",
       "    }\n",
       "\n",
       "    .dataframe thead th {\n",
       "        text-align: right;\n",
       "    }\n",
       "</style>\n",
       "<table border=\"1\" class=\"dataframe\">\n",
       "  <thead>\n",
       "    <tr style=\"text-align: right;\">\n",
       "      <th></th>\n",
       "      <th>Intra_dif_tr</th>\n",
       "      <th>Intra_dif_tst</th>\n",
       "      <th>Inter_dif_null</th>\n",
       "      <th>Inter_dif_not_null</th>\n",
       "    </tr>\n",
       "  </thead>\n",
       "  <tbody>\n",
       "    <tr>\n",
       "      <th>Abs Diff</th>\n",
       "      <td>27.12</td>\n",
       "      <td>39.75</td>\n",
       "      <td>6.88</td>\n",
       "      <td>5.75</td>\n",
       "    </tr>\n",
       "  </tbody>\n",
       "</table>\n",
       "</div>"
      ],
      "text/plain": [
       "          Intra_dif_tr  Intra_dif_tst  Inter_dif_null  Inter_dif_not_null\n",
       "Abs Diff         27.12          39.75            6.88                5.75"
      ]
     },
     "execution_count": 275,
     "metadata": {},
     "output_type": "execute_result"
    }
   ],
   "source": [
    "abs_PassClass = abs_dif(Passanger_Class)\n",
    "abs_PassClass"
   ]
  },
  {
   "cell_type": "markdown",
   "metadata": {},
   "source": [
    "**Sex**"
   ]
  },
  {
   "cell_type": "code",
   "execution_count": 254,
   "metadata": {},
   "outputs": [
    {
     "data": {
      "text/html": [
       "<div>\n",
       "<style scoped>\n",
       "    .dataframe tbody tr th:only-of-type {\n",
       "        vertical-align: middle;\n",
       "    }\n",
       "\n",
       "    .dataframe tbody tr th {\n",
       "        vertical-align: top;\n",
       "    }\n",
       "\n",
       "    .dataframe thead th {\n",
       "        text-align: right;\n",
       "    }\n",
       "</style>\n",
       "<table border=\"1\" class=\"dataframe\">\n",
       "  <thead>\n",
       "    <tr style=\"text-align: right;\">\n",
       "      <th></th>\n",
       "      <th>Intra_dif_tr</th>\n",
       "      <th>Intra_dif_tst</th>\n",
       "      <th>Inter_dif_null</th>\n",
       "      <th>Inter_dif_not_null</th>\n",
       "    </tr>\n",
       "    <tr>\n",
       "      <th>Sex</th>\n",
       "      <th></th>\n",
       "      <th></th>\n",
       "      <th></th>\n",
       "      <th></th>\n",
       "    </tr>\n",
       "  </thead>\n",
       "  <tbody>\n",
       "    <tr>\n",
       "      <th>female</th>\n",
       "      <td>-6.61</td>\n",
       "      <td>-9.18</td>\n",
       "      <td>0.87</td>\n",
       "      <td>-1.7</td>\n",
       "    </tr>\n",
       "    <tr>\n",
       "      <th>male</th>\n",
       "      <td>6.61</td>\n",
       "      <td>9.18</td>\n",
       "      <td>-0.87</td>\n",
       "      <td>1.7</td>\n",
       "    </tr>\n",
       "  </tbody>\n",
       "</table>\n",
       "</div>"
      ],
      "text/plain": [
       "        Intra_dif_tr  Intra_dif_tst  Inter_dif_null  Inter_dif_not_null\n",
       "Sex                                                                    \n",
       "female         -6.61          -9.18            0.87                -1.7\n",
       "male            6.61           9.18           -0.87                 1.7"
      ]
     },
     "execution_count": 254,
     "metadata": {},
     "output_type": "execute_result"
    }
   ],
   "source": [
    "Sex = feature_inf(\"Sex\")\n",
    "Sex"
   ]
  },
  {
   "cell_type": "code",
   "execution_count": 274,
   "metadata": {},
   "outputs": [
    {
     "data": {
      "text/html": [
       "<div>\n",
       "<style scoped>\n",
       "    .dataframe tbody tr th:only-of-type {\n",
       "        vertical-align: middle;\n",
       "    }\n",
       "\n",
       "    .dataframe tbody tr th {\n",
       "        vertical-align: top;\n",
       "    }\n",
       "\n",
       "    .dataframe thead th {\n",
       "        text-align: right;\n",
       "    }\n",
       "</style>\n",
       "<table border=\"1\" class=\"dataframe\">\n",
       "  <thead>\n",
       "    <tr style=\"text-align: right;\">\n",
       "      <th></th>\n",
       "      <th>Intra_dif_tr</th>\n",
       "      <th>Intra_dif_tst</th>\n",
       "      <th>Inter_dif_null</th>\n",
       "      <th>Inter_dif_not_null</th>\n",
       "    </tr>\n",
       "  </thead>\n",
       "  <tbody>\n",
       "    <tr>\n",
       "      <th>Abs Diff</th>\n",
       "      <td>6.61</td>\n",
       "      <td>9.18</td>\n",
       "      <td>0.87</td>\n",
       "      <td>1.7</td>\n",
       "    </tr>\n",
       "  </tbody>\n",
       "</table>\n",
       "</div>"
      ],
      "text/plain": [
       "          Intra_dif_tr  Intra_dif_tst  Inter_dif_null  Inter_dif_not_null\n",
       "Abs Diff          6.61           9.18            0.87                 1.7"
      ]
     },
     "execution_count": 274,
     "metadata": {},
     "output_type": "execute_result"
    }
   ],
   "source": [
    "abs_Sex = abs_dif(Sex)\n",
    "abs_Sex"
   ]
  },
  {
   "cell_type": "markdown",
   "metadata": {},
   "source": [
    "Distribution seems to also differ between subsamples with a 6.61% (Train) and a 9.18% (Test) difference.\n",
    "This difference drops when comparing same type subsamples across samples (Train[Null]xTest[Null] & \n",
    "Train[NotNull]xTest[NotNull]) falling to 0.87% and 1.7% respectively. This hints at the possibility\n",
    "of greater similarity between the test and train subsamples. This would mean that a multivariate approach\n",
    "could use both samples in order to interpolate the missing Age values. \n",
    "If other columns exhibit similar behavior, with respect to uneven distribution of null values across\n",
    "features(columns) we could then incorporate them into our multivariate interpolation. \n",
    "\n",
    "\n",
    "\n"
   ]
  },
  {
   "cell_type": "markdown",
   "metadata": {},
   "source": [
    "**Number of Siblings**"
   ]
  },
  {
   "cell_type": "code",
   "execution_count": 263,
   "metadata": {},
   "outputs": [
    {
     "data": {
      "text/html": [
       "<div>\n",
       "<style scoped>\n",
       "    .dataframe tbody tr th:only-of-type {\n",
       "        vertical-align: middle;\n",
       "    }\n",
       "\n",
       "    .dataframe tbody tr th {\n",
       "        vertical-align: top;\n",
       "    }\n",
       "\n",
       "    .dataframe thead th {\n",
       "        text-align: right;\n",
       "    }\n",
       "</style>\n",
       "<table border=\"1\" class=\"dataframe\">\n",
       "  <thead>\n",
       "    <tr style=\"text-align: right;\">\n",
       "      <th></th>\n",
       "      <th>Intra_dif_tr</th>\n",
       "      <th>Intra_dif_tst</th>\n",
       "      <th>Inter_dif_null</th>\n",
       "      <th>Inter_dif_not_null</th>\n",
       "    </tr>\n",
       "    <tr>\n",
       "      <th>SibSp</th>\n",
       "      <th></th>\n",
       "      <th></th>\n",
       "      <th></th>\n",
       "      <th></th>\n",
       "    </tr>\n",
       "  </thead>\n",
       "  <tbody>\n",
       "    <tr>\n",
       "      <th>0</th>\n",
       "      <td>11.43</td>\n",
       "      <td>15.77</td>\n",
       "      <td>-2.83</td>\n",
       "      <td>1.51</td>\n",
       "    </tr>\n",
       "    <tr>\n",
       "      <th>1</th>\n",
       "      <td>-10.94</td>\n",
       "      <td>-14.10</td>\n",
       "      <td>-0.43</td>\n",
       "      <td>-3.59</td>\n",
       "    </tr>\n",
       "    <tr>\n",
       "      <th>2</th>\n",
       "      <td>-1.81</td>\n",
       "      <td>0.18</td>\n",
       "      <td>-1.80</td>\n",
       "      <td>0.19</td>\n",
       "    </tr>\n",
       "    <tr>\n",
       "      <th>3</th>\n",
       "      <td>0.58</td>\n",
       "      <td>-1.20</td>\n",
       "      <td>2.26</td>\n",
       "      <td>0.48</td>\n",
       "    </tr>\n",
       "    <tr>\n",
       "      <th>4</th>\n",
       "      <td>-2.52</td>\n",
       "      <td>-1.20</td>\n",
       "      <td>NaN</td>\n",
       "      <td>1.32</td>\n",
       "    </tr>\n",
       "    <tr>\n",
       "      <th>5</th>\n",
       "      <td>-0.70</td>\n",
       "      <td>-0.30</td>\n",
       "      <td>NaN</td>\n",
       "      <td>0.40</td>\n",
       "    </tr>\n",
       "    <tr>\n",
       "      <th>8</th>\n",
       "      <td>3.95</td>\n",
       "      <td>0.86</td>\n",
       "      <td>2.79</td>\n",
       "      <td>-0.30</td>\n",
       "    </tr>\n",
       "  </tbody>\n",
       "</table>\n",
       "</div>"
      ],
      "text/plain": [
       "       Intra_dif_tr  Intra_dif_tst  Inter_dif_null  Inter_dif_not_null\n",
       "SibSp                                                                 \n",
       "0             11.43          15.77           -2.83                1.51\n",
       "1            -10.94         -14.10           -0.43               -3.59\n",
       "2             -1.81           0.18           -1.80                0.19\n",
       "3              0.58          -1.20            2.26                0.48\n",
       "4             -2.52          -1.20             NaN                1.32\n",
       "5             -0.70          -0.30             NaN                0.40\n",
       "8              3.95           0.86            2.79               -0.30"
      ]
     },
     "execution_count": 263,
     "metadata": {},
     "output_type": "execute_result"
    }
   ],
   "source": [
    "Number_Sib = feature_inf(\"SibSp\")\n",
    "Number_Sib"
   ]
  },
  {
   "cell_type": "code",
   "execution_count": 273,
   "metadata": {},
   "outputs": [
    {
     "data": {
      "text/html": [
       "<div>\n",
       "<style scoped>\n",
       "    .dataframe tbody tr th:only-of-type {\n",
       "        vertical-align: middle;\n",
       "    }\n",
       "\n",
       "    .dataframe tbody tr th {\n",
       "        vertical-align: top;\n",
       "    }\n",
       "\n",
       "    .dataframe thead th {\n",
       "        text-align: right;\n",
       "    }\n",
       "</style>\n",
       "<table border=\"1\" class=\"dataframe\">\n",
       "  <thead>\n",
       "    <tr style=\"text-align: right;\">\n",
       "      <th></th>\n",
       "      <th>Intra_dif_tr</th>\n",
       "      <th>Intra_dif_tst</th>\n",
       "      <th>Inter_dif_null</th>\n",
       "      <th>Inter_dif_not_null</th>\n",
       "    </tr>\n",
       "  </thead>\n",
       "  <tbody>\n",
       "    <tr>\n",
       "      <th>Abs Diff</th>\n",
       "      <td>15.96</td>\n",
       "      <td>16.81</td>\n",
       "      <td>5.06</td>\n",
       "      <td>3.9</td>\n",
       "    </tr>\n",
       "  </tbody>\n",
       "</table>\n",
       "</div>"
      ],
      "text/plain": [
       "          Intra_dif_tr  Intra_dif_tst  Inter_dif_null  Inter_dif_not_null\n",
       "Abs Diff         15.96          16.81            5.06                 3.9"
      ]
     },
     "execution_count": 273,
     "metadata": {},
     "output_type": "execute_result"
    }
   ],
   "source": [
    "abs_NumbSib = abs_dif(Number_Sib)\n",
    "abs_NumbSib"
   ]
  },
  {
   "cell_type": "markdown",
   "metadata": {},
   "source": [
    "**Parch**"
   ]
  },
  {
   "cell_type": "code",
   "execution_count": 260,
   "metadata": {},
   "outputs": [],
   "source": [
    "Parch = feature_inf(\"Parch\")"
   ]
  },
  {
   "cell_type": "code",
   "execution_count": 272,
   "metadata": {},
   "outputs": [
    {
     "data": {
      "text/html": [
       "<div>\n",
       "<style scoped>\n",
       "    .dataframe tbody tr th:only-of-type {\n",
       "        vertical-align: middle;\n",
       "    }\n",
       "\n",
       "    .dataframe tbody tr th {\n",
       "        vertical-align: top;\n",
       "    }\n",
       "\n",
       "    .dataframe thead th {\n",
       "        text-align: right;\n",
       "    }\n",
       "</style>\n",
       "<table border=\"1\" class=\"dataframe\">\n",
       "  <thead>\n",
       "    <tr style=\"text-align: right;\">\n",
       "      <th></th>\n",
       "      <th>Intra_dif_tr</th>\n",
       "      <th>Intra_dif_tst</th>\n",
       "      <th>Inter_dif_null</th>\n",
       "      <th>Inter_dif_not_null</th>\n",
       "    </tr>\n",
       "  </thead>\n",
       "  <tbody>\n",
       "    <tr>\n",
       "      <th>Abs Diff</th>\n",
       "      <td>15.73</td>\n",
       "      <td>18.31</td>\n",
       "      <td>4.32</td>\n",
       "      <td>1.8</td>\n",
       "    </tr>\n",
       "  </tbody>\n",
       "</table>\n",
       "</div>"
      ],
      "text/plain": [
       "          Intra_dif_tr  Intra_dif_tst  Inter_dif_null  Inter_dif_not_null\n",
       "Abs Diff         15.73          18.31            4.32                 1.8"
      ]
     },
     "execution_count": 272,
     "metadata": {},
     "output_type": "execute_result"
    }
   ],
   "source": [
    "abs_Parch = abs_dif(Parch)\n",
    "abs_Parch"
   ]
  },
  {
   "cell_type": "markdown",
   "metadata": {},
   "source": [
    "Notes on the resulting df"
   ]
  },
  {
   "cell_type": "markdown",
   "metadata": {},
   "source": [
    "**Fare**"
   ]
  },
  {
   "cell_type": "code",
   "execution_count": 224,
   "metadata": {},
   "outputs": [],
   "source": [
    "# Grouping fare prices by intervals of 10\n",
    "def fare_price(data):\n",
    "    data[\"Fare_Price\"] = pd.cut(x=data['Fare'], bins=[0,10,20,30,40,50,60,70,80,90,100,110,120,130,140,150,160,170,180,190,200,210,220,230])\n",
    "    df_fp = data[\"Fare_Price\"].groupby(data[\"Fare_Price\"]).count()\n",
    "    df_fp = pd.DataFrame(df_fp)\n",
    "    df_fp.columns = [\"Count\"]\n",
    "    return df_fp"
   ]
  },
  {
   "cell_type": "code",
   "execution_count": 262,
   "metadata": {},
   "outputs": [],
   "source": [
    "# Obtaining the proportions of our distribution\n",
    "def fare_percent(data):\n",
    "    from cmath import nan\n",
    "    df_fp = fare_price(data)\n",
    "    df_fp[\"Percent\"] = nan\n",
    "    for i in df_fp.index:\n",
    "        df_fp[\"Percent\"][i] = round(df_fp[\"Count\"][i]*100/df_fp[\"Count\"].sum(), 2)\n",
    "    return df_fp\n"
   ]
  },
  {
   "cell_type": "code",
   "execution_count": null,
   "metadata": {},
   "outputs": [],
   "source": [
    "# Train Data\n",
    "p_null_s_Fare_tr = fare_percent(train_null)\n",
    "p_notnull_s_Fare_tr = fare_percent(train_not_null)\n",
    "\n",
    "# Test Data\n",
    "p_null_s_Fare_tst = fare_percent(test_null)\n",
    "p_notnull_s_Fare_tst = fare_percent(test_not_null)\n",
    "\n",
    "# Intra Subsample (Null x Not Null) Comparison\n",
    "Intra_dif_tr = p_null_s_Fare_tr[\"Percent\"].subtract(p_notnull_s_Fare_tr[\"Percent\"])\n",
    "Intra_dif_tst = p_null_s_Fare_tst[\"Percent\"].subtract(p_notnull_s_Fare_tst[\"Percent\"])\n",
    "\n",
    "# Inter Subsample (Train x Test) Comparisons\n",
    "Inter_dif_null = p_null_s_Fare_tr[\"Percent\"].subtract(p_null_s_Fare_tst[\"Percent\"])\n",
    "Inter_dif_not_null = p_notnull_s_Fare_tr[\"Percent\"].subtract(p_notnull_s_Fare_tst[\"Percent\"])\n",
    "\n",
    "# Creating a joint DF for better comparison\n",
    "Fare = pd.DataFrame(Intra_dif_tr)\n",
    "Fare.columns = [\"Intra_dif_tr\"]\n",
    "Fare[\"Intra_dif_tst\"] = pd.DataFrame(Intra_dif_tst)\n",
    "Fare[\"Inter_dif_null\"] = pd.DataFrame(Inter_dif_null)\n",
    "Fare[\"Inter_dif_not_null\"] = pd.DataFrame(Inter_dif_not_null)\n",
    "Fare"
   ]
  },
  {
   "cell_type": "code",
   "execution_count": 271,
   "metadata": {},
   "outputs": [
    {
     "data": {
      "text/html": [
       "<div>\n",
       "<style scoped>\n",
       "    .dataframe tbody tr th:only-of-type {\n",
       "        vertical-align: middle;\n",
       "    }\n",
       "\n",
       "    .dataframe tbody tr th {\n",
       "        vertical-align: top;\n",
       "    }\n",
       "\n",
       "    .dataframe thead th {\n",
       "        text-align: right;\n",
       "    }\n",
       "</style>\n",
       "<table border=\"1\" class=\"dataframe\">\n",
       "  <thead>\n",
       "    <tr style=\"text-align: right;\">\n",
       "      <th></th>\n",
       "      <th>Intra_dif_tr</th>\n",
       "      <th>Intra_dif_tst</th>\n",
       "      <th>Inter_dif_null</th>\n",
       "      <th>Inter_dif_not_null</th>\n",
       "    </tr>\n",
       "  </thead>\n",
       "  <tbody>\n",
       "    <tr>\n",
       "      <th>Abs Diff</th>\n",
       "      <td>25.44</td>\n",
       "      <td>30.76</td>\n",
       "      <td>10.09</td>\n",
       "      <td>6.64</td>\n",
       "    </tr>\n",
       "  </tbody>\n",
       "</table>\n",
       "</div>"
      ],
      "text/plain": [
       "          Intra_dif_tr  Intra_dif_tst  Inter_dif_null  Inter_dif_not_null\n",
       "Abs Diff         25.44          30.76           10.09                6.64"
      ]
     },
     "execution_count": 271,
     "metadata": {},
     "output_type": "execute_result"
    }
   ],
   "source": [
    "abs_Fare = abs_dif(Fare)\n",
    "abs_Fare"
   ]
  },
  {
   "cell_type": "markdown",
   "metadata": {},
   "source": [
    "**Embarked**"
   ]
  },
  {
   "cell_type": "code",
   "execution_count": 267,
   "metadata": {},
   "outputs": [
    {
     "data": {
      "text/html": [
       "<div>\n",
       "<style scoped>\n",
       "    .dataframe tbody tr th:only-of-type {\n",
       "        vertical-align: middle;\n",
       "    }\n",
       "\n",
       "    .dataframe tbody tr th {\n",
       "        vertical-align: top;\n",
       "    }\n",
       "\n",
       "    .dataframe thead th {\n",
       "        text-align: right;\n",
       "    }\n",
       "</style>\n",
       "<table border=\"1\" class=\"dataframe\">\n",
       "  <thead>\n",
       "    <tr style=\"text-align: right;\">\n",
       "      <th></th>\n",
       "      <th>Intra_dif_tr</th>\n",
       "      <th>Intra_dif_tst</th>\n",
       "      <th>Inter_dif_null</th>\n",
       "      <th>Inter_dif_not_null</th>\n",
       "    </tr>\n",
       "    <tr>\n",
       "      <th>Embarked</th>\n",
       "      <th></th>\n",
       "      <th></th>\n",
       "      <th></th>\n",
       "      <th></th>\n",
       "    </tr>\n",
       "  </thead>\n",
       "  <tbody>\n",
       "    <tr>\n",
       "      <th>S</th>\n",
       "      <td>-26.96</td>\n",
       "      <td>-19.83</td>\n",
       "      <td>2.01</td>\n",
       "      <td>9.14</td>\n",
       "    </tr>\n",
       "    <tr>\n",
       "      <th>Q</th>\n",
       "      <td>23.75</td>\n",
       "      <td>21.28</td>\n",
       "      <td>-0.23</td>\n",
       "      <td>-2.70</td>\n",
       "    </tr>\n",
       "    <tr>\n",
       "      <th>C</th>\n",
       "      <td>3.21</td>\n",
       "      <td>-1.44</td>\n",
       "      <td>-1.79</td>\n",
       "      <td>-6.44</td>\n",
       "    </tr>\n",
       "  </tbody>\n",
       "</table>\n",
       "</div>"
      ],
      "text/plain": [
       "          Intra_dif_tr  Intra_dif_tst  Inter_dif_null  Inter_dif_not_null\n",
       "Embarked                                                                 \n",
       "S               -26.96         -19.83            2.01                9.14\n",
       "Q                23.75          21.28           -0.23               -2.70\n",
       "C                 3.21          -1.44           -1.79               -6.44"
      ]
     },
     "execution_count": 267,
     "metadata": {},
     "output_type": "execute_result"
    }
   ],
   "source": [
    "Embarked = feature_inf(\"Embarked\")\n",
    "Embarked"
   ]
  },
  {
   "cell_type": "code",
   "execution_count": 269,
   "metadata": {},
   "outputs": [
    {
     "data": {
      "text/html": [
       "<div>\n",
       "<style scoped>\n",
       "    .dataframe tbody tr th:only-of-type {\n",
       "        vertical-align: middle;\n",
       "    }\n",
       "\n",
       "    .dataframe tbody tr th {\n",
       "        vertical-align: top;\n",
       "    }\n",
       "\n",
       "    .dataframe thead th {\n",
       "        text-align: right;\n",
       "    }\n",
       "</style>\n",
       "<table border=\"1\" class=\"dataframe\">\n",
       "  <thead>\n",
       "    <tr style=\"text-align: right;\">\n",
       "      <th></th>\n",
       "      <th>Intra_dif_tr</th>\n",
       "      <th>Intra_dif_tst</th>\n",
       "      <th>Inter_dif_null</th>\n",
       "      <th>Inter_dif_not_null</th>\n",
       "    </tr>\n",
       "  </thead>\n",
       "  <tbody>\n",
       "    <tr>\n",
       "      <th>Abs Diff</th>\n",
       "      <td>26.96</td>\n",
       "      <td>21.28</td>\n",
       "      <td>2.02</td>\n",
       "      <td>9.14</td>\n",
       "    </tr>\n",
       "  </tbody>\n",
       "</table>\n",
       "</div>"
      ],
      "text/plain": [
       "          Intra_dif_tr  Intra_dif_tst  Inter_dif_null  Inter_dif_not_null\n",
       "Abs Diff         26.96          21.28            2.02                9.14"
      ]
     },
     "execution_count": 269,
     "metadata": {},
     "output_type": "execute_result"
    }
   ],
   "source": [
    "abs_Embarked = abs_dif(Embarked)\n",
    "abs_Embarked"
   ]
  },
  {
   "cell_type": "markdown",
   "metadata": {},
   "source": [
    "# Findings on Null Value Distribution"
   ]
  },
  {
   "cell_type": "code",
   "execution_count": 373,
   "metadata": {},
   "outputs": [
    {
     "name": "stderr",
     "output_type": "stream",
     "text": [
      "C:\\Users\\chiaw\\AppData\\Local\\Temp\\ipykernel_2732\\2191437407.py:14: FutureWarning: The frame.append method is deprecated and will be removed from pandas in a future version. Use pandas.concat instead.\n",
      "  Null_Age_Distribution = Null_Age_Distribution.append(mean)\n"
     ]
    },
    {
     "data": {
      "text/html": [
       "<div>\n",
       "<style scoped>\n",
       "    .dataframe tbody tr th:only-of-type {\n",
       "        vertical-align: middle;\n",
       "    }\n",
       "\n",
       "    .dataframe tbody tr th {\n",
       "        vertical-align: top;\n",
       "    }\n",
       "\n",
       "    .dataframe thead th {\n",
       "        text-align: right;\n",
       "    }\n",
       "</style>\n",
       "<table border=\"1\" class=\"dataframe\">\n",
       "  <thead>\n",
       "    <tr style=\"text-align: right;\">\n",
       "      <th></th>\n",
       "      <th>Intra_dif_tr</th>\n",
       "      <th>Intra_dif_tst</th>\n",
       "      <th>Inter_dif_null</th>\n",
       "      <th>Inter_dif_not_null</th>\n",
       "    </tr>\n",
       "  </thead>\n",
       "  <tbody>\n",
       "    <tr>\n",
       "      <th>PassClass</th>\n",
       "      <td>27.12</td>\n",
       "      <td>39.75</td>\n",
       "      <td>6.88</td>\n",
       "      <td>5.75</td>\n",
       "    </tr>\n",
       "    <tr>\n",
       "      <th>Sex</th>\n",
       "      <td>6.61</td>\n",
       "      <td>9.18</td>\n",
       "      <td>0.87</td>\n",
       "      <td>1.70</td>\n",
       "    </tr>\n",
       "    <tr>\n",
       "      <th>NumbSib</th>\n",
       "      <td>15.96</td>\n",
       "      <td>16.81</td>\n",
       "      <td>5.06</td>\n",
       "      <td>3.90</td>\n",
       "    </tr>\n",
       "    <tr>\n",
       "      <th>Parch</th>\n",
       "      <td>15.73</td>\n",
       "      <td>18.31</td>\n",
       "      <td>4.32</td>\n",
       "      <td>1.80</td>\n",
       "    </tr>\n",
       "    <tr>\n",
       "      <th>Fare</th>\n",
       "      <td>25.44</td>\n",
       "      <td>30.76</td>\n",
       "      <td>10.09</td>\n",
       "      <td>6.64</td>\n",
       "    </tr>\n",
       "    <tr>\n",
       "      <th>Embarked</th>\n",
       "      <td>26.96</td>\n",
       "      <td>21.28</td>\n",
       "      <td>2.02</td>\n",
       "      <td>9.14</td>\n",
       "    </tr>\n",
       "    <tr>\n",
       "      <th>Mean</th>\n",
       "      <td>19.64</td>\n",
       "      <td>22.68</td>\n",
       "      <td>4.87</td>\n",
       "      <td>4.82</td>\n",
       "    </tr>\n",
       "  </tbody>\n",
       "</table>\n",
       "</div>"
      ],
      "text/plain": [
       "           Intra_dif_tr  Intra_dif_tst  Inter_dif_null  Inter_dif_not_null\n",
       "PassClass         27.12          39.75            6.88                5.75\n",
       "Sex                6.61           9.18            0.87                1.70\n",
       "NumbSib           15.96          16.81            5.06                3.90\n",
       "Parch             15.73          18.31            4.32                1.80\n",
       "Fare              25.44          30.76           10.09                6.64\n",
       "Embarked          26.96          21.28            2.02                9.14\n",
       "Mean              19.64          22.68            4.87                4.82"
      ]
     },
     "execution_count": 373,
     "metadata": {},
     "output_type": "execute_result"
    }
   ],
   "source": [
    "df_lst = [abs_PassClass, abs_Sex, abs_NumbSib, abs_Parch, abs_Fare, abs_Embarked]\n",
    "Null_Age_Distribution = pd.concat(df_lst)\n",
    "index_lst = [\"PassClass\", \"Sex\", \"NumbSib\", \"Parch\", \"Fare\", \"Embarked\"]\n",
    "\n",
    "# Adding the overall average\n",
    "Null_Age_Distribution.index = index_lst\n",
    "col = Null_Age_Distribution.columns\n",
    "mean_lst = []\n",
    "for col in Null_Age_Distribution:\n",
    "    mean_lst.append(round(Null_Age_Distribution[col].mean(),2))\n",
    "col = Null_Age_Distribution.columns\n",
    "mean = pd.DataFrame(mean_lst).T\n",
    "mean.columns = col\n",
    "Null_Age_Distribution = Null_Age_Distribution.append(mean)\n",
    "Null_Age_Distribution = Null_Age_Distribution.rename(index={0:\"Mean\"})\n",
    "\n",
    "Null_Age_Distribution"
   ]
  },
  {
   "cell_type": "markdown",
   "metadata": {},
   "source": []
  }
 ],
 "metadata": {
  "kernelspec": {
   "display_name": "Python 3.10.8 64-bit (microsoft store)",
   "language": "python",
   "name": "python3"
  },
  "language_info": {
   "codemirror_mode": {
    "name": "ipython",
    "version": 3
   },
   "file_extension": ".py",
   "mimetype": "text/x-python",
   "name": "python",
   "nbconvert_exporter": "python",
   "pygments_lexer": "ipython3",
   "version": "3.10.8"
  },
  "orig_nbformat": 4,
  "vscode": {
   "interpreter": {
    "hash": "58916f457dcb34b9456eccbbe92e4d02cea8419b04911ae413e3e2240c7b33b6"
   }
  }
 },
 "nbformat": 4,
 "nbformat_minor": 2
}
